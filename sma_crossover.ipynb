{
 "cells": [
  {
   "cell_type": "code",
   "execution_count": 1,
   "metadata": {},
   "outputs": [],
   "source": [
    "\"\"\"\n",
    "Author: TraderPy\n",
    "Link: https://www.youtube.com/channel/UC9xYCyyR_G3LIuJ_LlTiEVQ\n",
    "\"\"\"\n",
    "\n",
    "import MetaTrader5 as mt5  # install using 'pip install MetaTrader5'\n",
    "import pandas as pd  # install using 'pip install pandas'\n",
    "from datetime import datetime\n",
    "import time"
   ]
  },
  {
   "cell_type": "code",
   "execution_count": 2,
   "metadata": {},
   "outputs": [],
   "source": [
    "# strategy parameters\n",
    "\n",
    "SYMBOL = \"XAUUSD\"\n",
    "VOLUME = 0.3\n",
    "TIMEFRAME = mt5.TIMEFRAME_M1\n",
    "SMA_PERIOD = 10\n",
    "DEVIATION = 20"
   ]
  },
  {
   "cell_type": "code",
   "execution_count": 4,
   "metadata": {},
   "outputs": [],
   "source": [
    "# function to send a market order\n",
    "def market_order(symbol, volume, order_type, times=2, **kwargs):\n",
    "\n",
    "    count = times\n",
    "    results = []\n",
    "\n",
    "    while count > 0:\n",
    "        tick = mt5.symbol_info_tick(symbol)\n",
    "\n",
    "        order_dict = {'buy': 0, 'sell': 1}\n",
    "        price_dict = {'buy': tick.ask, 'sell': tick.bid}\n",
    "\n",
    "        request = {\n",
    "            \"action\": mt5.TRADE_ACTION_DEAL,\n",
    "            \"symbol\": symbol,\n",
    "            \"volume\": volume,\n",
    "            \"type\": order_dict[order_type],\n",
    "            \"price\": price_dict[order_type],\n",
    "            \"deviation\": DEVIATION,\n",
    "            \"magic\": 100,\n",
    "            \"comment\": \"python market order\",\n",
    "            \"type_time\": mt5.ORDER_TIME_GTC,\n",
    "            \"type_filling\": mt5.ORDER_FILLING_IOC,\n",
    "        }\n",
    "\n",
    "        order_result = mt5.order_send(request)\n",
    "        print(order_result)\n",
    "        results.append(order_result)\n",
    "\n",
    "        count -= 1\n",
    "\n",
    "    return results\n"
   ]
  },
  {
   "cell_type": "code",
   "execution_count": 5,
   "metadata": {},
   "outputs": [],
   "source": [
    "# function to close an order base don ticket id\n",
    "def close_order(ticket):\n",
    "    positions = mt5.positions_get()\n",
    "\n",
    "    for pos in positions:\n",
    "        tick = mt5.symbol_info_tick(pos.symbol)\n",
    "        type_dict = {0: 1, 1: 0}  # 0 represents buy, 1 represents sell - inverting order_type to close the position\n",
    "        price_dict = {0: tick.ask, 1: tick.bid}\n",
    "\n",
    "        if pos.ticket == ticket:\n",
    "            request = {\n",
    "                \"action\": mt5.TRADE_ACTION_DEAL,\n",
    "                \"position\": pos.ticket,\n",
    "                \"symbol\": pos.symbol,\n",
    "                \"volume\": pos.volume,\n",
    "                \"type\": type_dict[pos.type],\n",
    "                \"price\": price_dict[pos.type],\n",
    "                \"deviation\": DEVIATION,\n",
    "                \"magic\": 100,\n",
    "                \"comment\": \"python close order\",\n",
    "                \"type_time\": mt5.ORDER_TIME_GTC,\n",
    "                \"type_filling\": mt5.ORDER_FILLING_IOC,\n",
    "            }\n",
    "\n",
    "            order_result = mt5.order_send(request)\n",
    "            print(order_result)\n",
    "\n",
    "            return order_result\n",
    "\n",
    "    return 'Ticket does not exist'\n"
   ]
  },
  {
   "cell_type": "code",
   "execution_count": 6,
   "metadata": {},
   "outputs": [],
   "source": [
    "# function to get the exposure of a symbol\n",
    "def get_exposure(symbol):\n",
    "    positions = mt5.positions_get(symbol=symbol)\n",
    "    if positions:\n",
    "        pos_df = pd.DataFrame(positions, columns=positions[0]._asdict().keys())\n",
    "        exposure = pos_df['volume'].sum()\n",
    "\n",
    "        return exposure\n"
   ]
  },
  {
   "cell_type": "code",
   "execution_count": 7,
   "metadata": {},
   "outputs": [],
   "source": [
    "# function to look for trading signals\n",
    "def signal(symbol, timeframe, sma_period):\n",
    "    bars = mt5.copy_rates_from_pos(symbol, timeframe, 1, sma_period)\n",
    "    bars_df = pd.DataFrame(bars)\n",
    "    \n",
    "    last_close = bars_df.iloc[-1].close\n",
    "    sma = bars_df.close.mean()\n",
    "\n",
    "    direction = 'flat'\n",
    "    if last_close > sma:\n",
    "        direction = 'buy'\n",
    "    elif last_close < sma:\n",
    "        direction = 'sell'\n",
    "\n",
    "    return last_close, sma, direction\n"
   ]
  },
  {
   "cell_type": "code",
   "execution_count": 3,
   "metadata": {},
   "outputs": [
    {
     "data": {
      "text/plain": [
       "False"
      ]
     },
     "execution_count": 3,
     "metadata": {},
     "output_type": "execute_result"
    }
   ],
   "source": [
    "# Initialize MetaTrader\n",
    "\n",
    "mt5.initialize(\n",
    "   login=5014944372,                 \n",
    "   password=\"giyl6opo\",    \n",
    "   server=\"MetaQuotes-Demo\",\n",
    "   timeout=5000\n",
    ")"
   ]
  },
  {
   "cell_type": "code",
   "execution_count": null,
   "metadata": {},
   "outputs": [],
   "source": [
    "while True:\n",
    "    # calculating account exposure\n",
    "    exposure = get_exposure(SYMBOL)\n",
    "\n",
    "    # calculating last candle close and simple moving average and checking for trading signal\n",
    "    last_close, sma, direction = signal(SYMBOL, TIMEFRAME, SMA_PERIOD)\n",
    "\n",
    "    # trading logic\n",
    "    if direction == 'buy':\n",
    "        # if we have a BUY signal, close all short positions\n",
    "        for pos in mt5.positions_get():\n",
    "            if pos.type == 1:  # pos.type == 1 represent a sell order\n",
    "                close_order(pos.ticket)\n",
    "        # if there are no open positions, open a new long position   \n",
    "        if not mt5.positions_total():\n",
    "            market_order(SYMBOL, VOLUME, direction, times=4)\n",
    "\n",
    "    elif direction == 'sell':\n",
    "        # if there are no open positions, open a new short position\n",
    "        if not mt5.positions_total():\n",
    "            market_order(SYMBOL, VOLUME, direction, times=4)\n",
    "        \n",
    "    print('time: ', datetime.now())\n",
    "    print('exposure: ', exposure)\n",
    "    print('last_close: ', last_close)\n",
    "    print('sma: ', sma)\n",
    "    print('signal: ', direction)\n",
    "    print('-------\\n')\n",
    "\n",
    "    # update every 1 second\n",
    "    time.sleep(1)\n",
    "\n",
    "     "
   ]
  }
 ],
 "metadata": {
  "kernelspec": {
   "display_name": "Python 3",
   "language": "python",
   "name": "python3"
  },
  "language_info": {
   "codemirror_mode": {
    "name": "ipython",
    "version": 3
   },
   "file_extension": ".py",
   "mimetype": "text/x-python",
   "name": "python",
   "nbconvert_exporter": "python",
   "pygments_lexer": "ipython3",
   "version": "3.11.3"
  },
  "orig_nbformat": 4
 },
 "nbformat": 4,
 "nbformat_minor": 2
}
