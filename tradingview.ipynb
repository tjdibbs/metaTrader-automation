{
 "cells": [
  {
   "cell_type": "code",
   "execution_count": 1,
   "metadata": {},
   "outputs": [],
   "source": [
    "from tradingview_ta import TA_Handler, Interval, Exchange, TradingView"
   ]
  },
  {
   "cell_type": "code",
   "execution_count": null,
   "metadata": {},
   "outputs": [],
   "source": [
    "TradingView.indicators"
   ]
  },
  {
   "cell_type": "code",
   "execution_count": 3,
   "metadata": {},
   "outputs": [
    {
     "data": {
      "text/plain": [
       "{'symbols': {'tickers': ['X', 'A', 'U', 'U', 'S', 'D'],\n",
       "  'query': {'types': []}},\n",
       " 'columns': ['E|5', 'M|5', 'A|5', '1|5', '0|5', '0|5']}"
      ]
     },
     "execution_count": 3,
     "metadata": {},
     "output_type": "execute_result"
    }
   ],
   "source": [
    "\n",
    "\n",
    "TradingView.data(\"XAUUSD\", interval=\"5m\", indicators=\"EMA100\")\n",
    "# Example output: {\"RECOMMENDATION\": \"BUY\", \"BUY\": 8, \"NEUTRAL\": 6, \"SELL\": 3}\n",
    "\n",
    "# An encounter is simply an experience that you have with God that\n",
    "#  reveal God to you in a deeper experience, an encounter are experience that crystalize the relationship with God\n",
    "\n",
    "# The dimension of God that you encounter is what you reveal to your world\n",
    "# Daniel 11:32 - The people that do know their God they shall be strong and they shall do exploit\n",
    "\n",
    "# According to exodus 6 , God reveal himself to men dimensionally. \n",
    "# And the dimension of God you encounter becomes the direction of your exploit\n",
    "\n",
    "# There might area of our life that we don't know God, look at wat paul said in phil 3:10. \n",
    "# Paul is trying to say that he doesn't know God finish"
   ]
  }
 ],
 "metadata": {
  "kernelspec": {
   "display_name": "Python 3",
   "language": "python",
   "name": "python3"
  },
  "language_info": {
   "codemirror_mode": {
    "name": "ipython",
    "version": 3
   },
   "file_extension": ".py",
   "mimetype": "text/x-python",
   "name": "python",
   "nbconvert_exporter": "python",
   "pygments_lexer": "ipython3",
   "version": "3.11.3"
  },
  "orig_nbformat": 4
 },
 "nbformat": 4,
 "nbformat_minor": 2
}
